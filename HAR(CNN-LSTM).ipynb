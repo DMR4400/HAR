{
  "cells": [
    {
      "cell_type": "code",
      "execution_count": null,
      "metadata": {
        "id": "XLY9NJllndqD",
        "outputId": "86e291ab-e317-4f4e-91d0-67634ef436b0"
      },
      "outputs": [
        {
          "name": "stdout",
          "output_type": "stream",
          "text": [
            "hello\n"
          ]
        }
      ],
      "source": [
        "print(\"hello\")"
      ]
    },
    {
      "cell_type": "code",
      "execution_count": null,
      "metadata": {
        "id": "X3AdbpZFCRR0"
      },
      "outputs": [],
      "source": [
        "# Import the required libraries.\n",
        "import os\n",
        "import cv2\n",
        "import pafy\n",
        "import math\n",
        "import random\n",
        "import numpy as np\n",
        "import datetime as dt\n",
        "import tensorflow as tf\n",
        "from collections import deque\n",
        "import matplotlib.pyplot as plt\n",
        "\n",
        "from moviepy.editor import *\n",
        "%matplotlib inline\n",
        "\n",
        "from sklearn.model_selection import train_test_split\n",
        "\n",
        "from tensorflow.keras.layers import *\n",
        "from tensorflow.keras.models import Sequential\n",
        "from tensorflow.keras.utils import to_categorical\n",
        "from tensorflow.keras.callbacks import EarlyStopping\n",
        "from tensorflow.keras.utils import plot_model"
      ]
    },
    {
      "cell_type": "markdown",
      "metadata": {
        "id": "nxRZOCSfJkpc"
      },
      "source": [
        "And will set `Numpy`, `Python`, and `Tensorflow` seeds to get consistent results on every execution."
      ]
    },
    {
      "cell_type": "code",
      "execution_count": null,
      "metadata": {
        "id": "9AFIAq0Q0VwG"
      },
      "outputs": [],
      "source": [
        "seed_constant = 27\n",
        "np.random.seed(seed_constant)\n",
        "random.seed(seed_constant)\n",
        "tf.random.set_seed(seed_constant)"
      ]
    },
    {
      "cell_type": "code",
      "execution_count": null,
      "metadata": {
        "id": "gb4Fv7Ag-kwb"
      },
      "outputs": [],
      "source": [
        "IMAGE_HEIGHT , IMAGE_WIDTH = 64, 64\n",
        "SEQUENCE_LENGTH = 20\n",
        "\n",
        "# directory containing the UCF50 dataset.\n",
        "DATASET_DIR = \"dataset/UCF50\"\n",
        "\n",
        "# Specify the list containing the names of the classes used for training. Feel free to choose any set of classes.\n",
        "# CLASSES_LIST = [\"WalkingWithDog\", \"TaiChi\", \"Swing\", \"HorseRace\"]\n",
        "\n",
        "\n",
        "# CLASSES_LIST = [\"BaseballPitch\",  \"Diving\",       \"HulaHoop\",       \"MilitaryParade\",  \"PlayingViolin\",       \"RopeClimbing\",    \"Swing\",              \"WalkingWithDog\",\n",
        "# \"Basketball\",     \"Drumming\",     \"JavelinThrow\",   \"Mixing\",          \"PoleVault\",           \"Rowing\",          \"TaiChi\",             \"YoYo\",\n",
        "# \"BenchPress\",     \"Fencing\",      \"JugglingBalls\",  \"Nunchucks\",       \"PommelHorse\",         \"SalsaSpin\",       \"TennisSwing\",\n",
        "# \"Biking\",         \"GolfSwing\",    \"JumpingJack\",    \"PizzaTossing\",    \"PullUps\",             \"SkateBoarding\",   \"ThrowDiscus\",\n",
        "# \"Billiards\",      \"HighJump\",     \"JumpRope\",       \"PlayingGuitar\",   \"Punch\",               \"Skiing\",\n",
        "# \"BreastStroke\",   \"HorseRace\",   \"Kayaking\",       \"PlayingPiano\",    \"PushUps\",            \"Skijet\",          \"TrampolineJumping\",\n",
        "# \"CleanAndJerk\",   \"HorseRiding\",  \"Lunges\",         \"PlayingTabla\",    \"RockClimbingIndoor\",  \"SoccerJuggling\", \"VolleyballSpiking\"]\n",
        "\n",
        "CLASSES_LIST = [\"BaseballPitch\",  \"Diving\",       \"HulaHoop\",       \"MilitaryParade\",  \"PlayingViolin\",       \"RopeClimbing\",    \"Swing\",              \"WalkingWithDog\",\n",
        "\"Basketball\",     \"Drumming\",     \"JavelinThrow\",   \"Mixing\",          \"PoleVault\",           \"Rowing\",          \"TaiChi\",             \"YoYo\",\n",
        "\"BenchPress\",     \"Fencing\",      \"JugglingBalls\",  \"Nunchucks\",       \"PommelHorse\",         \"SalsaSpin\",       \"TennisSwing\",\n",
        "\"Biking\",         \"GolfSwing\",    \"JumpingJack\",    \"PizzaTossing\" ]"
      ]
    },
    {
      "cell_type": "code",
      "execution_count": null,
      "metadata": {
        "id": "zBu224OG-szz"
      },
      "outputs": [],
      "source": [
        "def frames_extraction(video_path):\n",
        "    # Declare a list to store video frames.\n",
        "    frames_list = []\n",
        "\n",
        "    video_reader = cv2.VideoCapture(video_path)\n",
        "    video_frames_count = int(video_reader.get(cv2.CAP_PROP_FRAME_COUNT))\n",
        "    skip_frames_window = max(int(video_frames_count/SEQUENCE_LENGTH), 1)\n",
        "\n",
        "    # Iterate through the Video Frames.\n",
        "    for frame_counter in range(SEQUENCE_LENGTH):\n",
        "        video_reader.set(cv2.CAP_PROP_POS_FRAMES, frame_counter * skip_frames_window)\n",
        "\n",
        "        # Reading the frame from the video.\n",
        "        success, frame = video_reader.read()\n",
        "        if not success:\n",
        "            break\n",
        "\n",
        "        # Resize the Frame to fixed height and width.\n",
        "        resized_frame = cv2.resize(frame, (IMAGE_HEIGHT, IMAGE_WIDTH))\n",
        "\n",
        "        # Normalize the resized frame by dividing it with 255 so that each pixel value then lies between 0 and 1\n",
        "        normalized_frame = resized_frame / 255\n",
        "        frames_list.append(normalized_frame)\n",
        "\n",
        "    video_reader.release()\n",
        "\n",
        "    return frames_list"
      ]
    },
    {
      "cell_type": "code",
      "execution_count": null,
      "metadata": {
        "id": "j6MLp9PpDJ4-"
      },
      "outputs": [],
      "source": [
        "def create_dataset():\n",
        "    features = []\n",
        "    labels = []\n",
        "    video_files_paths = []\n",
        "\n",
        "    # Iterating through all the classes mentioned in the classes list\n",
        "    for class_index, class_name in enumerate(CLASSES_LIST):\n",
        "\n",
        "        print(f'Extracting Data of Class: {class_name}')\n",
        "\n",
        "        files_list = os.listdir(os.path.join(DATASET_DIR, class_name))\n",
        "        for file_name in files_list:\n",
        "\n",
        "            video_file_path = os.path.join(DATASET_DIR, class_name, file_name)\n",
        "\n",
        "            # Extract the frames of the video file.\n",
        "            frames = frames_extraction(video_file_path)\n",
        "            if len(frames) == SEQUENCE_LENGTH:\n",
        "                features.append(frames)\n",
        "                labels.append(class_index)\n",
        "                video_files_paths.append(video_file_path)\n",
        "\n",
        "    features = np.asarray(features)\n",
        "    labels = np.array(labels)\n",
        "\n",
        "    # Return the frames, class index, and video file path.\n",
        "    return features, labels, video_files_paths"
      ]
    },
    {
      "cell_type": "code",
      "execution_count": null,
      "metadata": {
        "colab": {
          "base_uri": "https://localhost:8080/"
        },
        "id": "ckAYgSriJN_R",
        "outputId": "c4cd44ea-f745-43ed-8a6a-cdad724b5569"
      },
      "outputs": [
        {
          "name": "stdout",
          "output_type": "stream",
          "text": [
            "Extracting Data of Class: BaseballPitch\n",
            "Extracting Data of Class: Diving\n",
            "Extracting Data of Class: HulaHoop\n",
            "Extracting Data of Class: MilitaryParade\n",
            "Extracting Data of Class: PlayingViolin\n",
            "Extracting Data of Class: RopeClimbing\n",
            "Extracting Data of Class: Swing\n",
            "Extracting Data of Class: WalkingWithDog\n",
            "Extracting Data of Class: Basketball\n",
            "Extracting Data of Class: Drumming\n",
            "Extracting Data of Class: JavelinThrow\n",
            "Extracting Data of Class: Mixing\n",
            "Extracting Data of Class: PoleVault\n",
            "Extracting Data of Class: Rowing\n",
            "Extracting Data of Class: TaiChi\n",
            "Extracting Data of Class: YoYo\n",
            "Extracting Data of Class: BenchPress\n",
            "Extracting Data of Class: Fencing\n",
            "Extracting Data of Class: JugglingBalls\n",
            "Extracting Data of Class: Nunchucks\n",
            "Extracting Data of Class: PommelHorse\n",
            "Extracting Data of Class: SalsaSpin\n",
            "Extracting Data of Class: TennisSwing\n",
            "Extracting Data of Class: Biking\n",
            "Extracting Data of Class: GolfSwing\n",
            "Extracting Data of Class: JumpingJack\n",
            "Extracting Data of Class: PizzaTossing\n"
          ]
        }
      ],
      "source": [
        "# Create the dataset.\n",
        "features, labels, video_files_paths = create_dataset()"
      ]
    },
    {
      "cell_type": "code",
      "execution_count": null,
      "metadata": {
        "id": "KfcpuV6_Bd_T"
      },
      "outputs": [],
      "source": [
        "# Using Keras's to_categorical method to convert labels into one-hot-encoded vectors\n",
        "one_hot_encoded_labels = to_categorical(labels)"
      ]
    },
    {
      "cell_type": "code",
      "execution_count": null,
      "metadata": {
        "id": "UhkQjq1JJSO2"
      },
      "outputs": [],
      "source": [
        "# Split the Data into Train ( 75% ) and Test Set ( 25% ).\n",
        "features_train, features_test, labels_train, labels_test = train_test_split(features, one_hot_encoded_labels,\n",
        "                                                                            test_size = 0.25, shuffle = True,\n",
        "                                                                            random_state = seed_constant)"
      ]
    },
    {
      "cell_type": "code",
      "execution_count": null,
      "metadata": {
        "id": "h8cDSpfXJXwx"
      },
      "outputs": [],
      "source": [
        "def create_convlstm_model():\n",
        "\n",
        "    model = Sequential()\n",
        "\n",
        "    model.add(ConvLSTM2D(filters = 4, kernel_size = (3, 3), activation = 'tanh',data_format = \"channels_last\",\n",
        "                         recurrent_dropout=0.2, return_sequences=True, input_shape = (SEQUENCE_LENGTH,\n",
        "                                                                                      IMAGE_HEIGHT, IMAGE_WIDTH, 3)))\n",
        "\n",
        "    model.add(MaxPooling3D(pool_size=(1, 2, 2), padding='same', data_format='channels_last'))\n",
        "    model.add(TimeDistributed(Dropout(0.2)))\n",
        "\n",
        "    model.add(ConvLSTM2D(filters = 8, kernel_size = (3, 3), activation = 'tanh', data_format = \"channels_last\",\n",
        "                         recurrent_dropout=0.2, return_sequences=True))\n",
        "\n",
        "    model.add(MaxPooling3D(pool_size=(1, 2, 2), padding='same', data_format='channels_last'))\n",
        "    model.add(TimeDistributed(Dropout(0.2)))\n",
        "\n",
        "    model.add(ConvLSTM2D(filters = 14, kernel_size = (3, 3), activation = 'tanh', data_format = \"channels_last\",\n",
        "                         recurrent_dropout=0.2, return_sequences=True))\n",
        "\n",
        "    model.add(MaxPooling3D(pool_size=(1, 2, 2), padding='same', data_format='channels_last'))\n",
        "    model.add(TimeDistributed(Dropout(0.2)))\n",
        "\n",
        "    model.add(ConvLSTM2D(filters = 16, kernel_size = (3, 3), activation = 'tanh', data_format = \"channels_last\",\n",
        "                         recurrent_dropout=0.2, return_sequences=True))\n",
        "\n",
        "    model.add(MaxPooling3D(pool_size=(1, 2, 2), padding='same', data_format='channels_last'))\n",
        "    #model.add(TimeDistributed(Dropout(0.2)))\n",
        "\n",
        "    model.add(Flatten())\n",
        "\n",
        "    model.add(Dense(len(CLASSES_LIST), activation = \"softmax\"))\n",
        "\n",
        "    model.summary()\n",
        "\n",
        "    return model"
      ]
    },
    {
      "cell_type": "code",
      "execution_count": null,
      "metadata": {
        "colab": {
          "base_uri": "https://localhost:8080/"
        },
        "id": "2D1CS2Z6Jkp5",
        "outputId": "9d7d2e7e-f950-4f5c-c88b-810dc7c92c33"
      },
      "outputs": [
        {
          "name": "stdout",
          "output_type": "stream",
          "text": [
            "Model: \"sequential_2\"\n",
            "_________________________________________________________________\n",
            " Layer (type)                Output Shape              Param #   \n",
            "=================================================================\n",
            " conv_lstm2d (ConvLSTM2D)    (None, 20, 62, 62, 4)     1024      \n",
            "                                                                 \n",
            " max_pooling3d (MaxPooling3D  (None, 20, 31, 31, 4)    0         \n",
            " )                                                               \n",
            "                                                                 \n",
            " time_distributed_24 (TimeDi  (None, 20, 31, 31, 4)    0         \n",
            " stributed)                                                      \n",
            "                                                                 \n",
            " conv_lstm2d_1 (ConvLSTM2D)  (None, 20, 29, 29, 8)     3488      \n",
            "                                                                 \n",
            " max_pooling3d_1 (MaxPooling  (None, 20, 15, 15, 8)    0         \n",
            " 3D)                                                             \n",
            "                                                                 \n",
            " time_distributed_25 (TimeDi  (None, 20, 15, 15, 8)    0         \n",
            " stributed)                                                      \n",
            "                                                                 \n",
            " conv_lstm2d_2 (ConvLSTM2D)  (None, 20, 13, 13, 14)    11144     \n",
            "                                                                 \n",
            " max_pooling3d_2 (MaxPooling  (None, 20, 7, 7, 14)     0         \n",
            " 3D)                                                             \n",
            "                                                                 \n",
            " time_distributed_26 (TimeDi  (None, 20, 7, 7, 14)     0         \n",
            " stributed)                                                      \n",
            "                                                                 \n",
            " conv_lstm2d_3 (ConvLSTM2D)  (None, 20, 5, 5, 16)      17344     \n",
            "                                                                 \n",
            " max_pooling3d_3 (MaxPooling  (None, 20, 3, 3, 16)     0         \n",
            " 3D)                                                             \n",
            "                                                                 \n",
            " flatten_2 (Flatten)         (None, 2880)              0         \n",
            "                                                                 \n",
            " dense_2 (Dense)             (None, 27)                77787     \n",
            "                                                                 \n",
            "=================================================================\n",
            "Total params: 110,787\n",
            "Trainable params: 110,787\n",
            "Non-trainable params: 0\n",
            "_________________________________________________________________\n",
            "Model Created Successfully!\n"
          ]
        }
      ],
      "source": [
        "\n",
        "convlstm_model = create_convlstm_model()\n",
        "\n",
        "print(\"Model Created Successfully!\")"
      ]
    },
    {
      "cell_type": "code",
      "execution_count": null,
      "metadata": {
        "colab": {
          "base_uri": "https://localhost:8080/"
        },
        "id": "Yxx_adaPr8Vf",
        "outputId": "e085819d-1200-4298-f142-072cf573ad40"
      },
      "outputs": [
        {
          "name": "stdout",
          "output_type": "stream",
          "text": [
            "Epoch 1/50\n",
            "543/543 [==============================] - 239s 429ms/step - loss: 2.9467 - accuracy: 0.1397 - val_loss: 2.4533 - val_accuracy: 0.2891\n",
            "Epoch 2/50\n",
            "543/543 [==============================] - 233s 429ms/step - loss: 2.2968 - accuracy: 0.3204 - val_loss: 2.0587 - val_accuracy: 0.4217\n",
            "Epoch 3/50\n",
            "543/543 [==============================] - 233s 428ms/step - loss: 1.7258 - accuracy: 0.4790 - val_loss: 1.7711 - val_accuracy: 0.4622\n",
            "Epoch 4/50\n",
            "543/543 [==============================] - 232s 427ms/step - loss: 1.2815 - accuracy: 0.6150 - val_loss: 1.5695 - val_accuracy: 0.5635\n",
            "Epoch 5/50\n",
            "543/543 [==============================] - 232s 428ms/step - loss: 0.9213 - accuracy: 0.7206 - val_loss: 1.5262 - val_accuracy: 0.5801\n",
            "Epoch 6/50\n",
            "543/543 [==============================] - 232s 427ms/step - loss: 0.7372 - accuracy: 0.7676 - val_loss: 1.4178 - val_accuracy: 0.6280\n",
            "Epoch 7/50\n",
            "543/543 [==============================] - 232s 427ms/step - loss: 0.5245 - accuracy: 0.8368 - val_loss: 1.3669 - val_accuracy: 0.6575\n",
            "Epoch 8/50\n",
            "543/543 [==============================] - 233s 428ms/step - loss: 0.4362 - accuracy: 0.8612 - val_loss: 1.9363 - val_accuracy: 0.5230\n",
            "Epoch 9/50\n",
            "543/543 [==============================] - 232s 428ms/step - loss: 0.3585 - accuracy: 0.8820 - val_loss: 1.4532 - val_accuracy: 0.6740\n",
            "Epoch 10/50\n",
            "543/543 [==============================] - 233s 429ms/step - loss: 0.2869 - accuracy: 0.9059 - val_loss: 1.3702 - val_accuracy: 0.6796\n",
            "Epoch 11/50\n",
            "543/543 [==============================] - 233s 429ms/step - loss: 0.2064 - accuracy: 0.9368 - val_loss: 1.5782 - val_accuracy: 0.6556\n",
            "Epoch 12/50\n",
            "543/543 [==============================] - 233s 429ms/step - loss: 0.2361 - accuracy: 0.9235 - val_loss: 1.7008 - val_accuracy: 0.6575\n",
            "Epoch 13/50\n",
            "543/543 [==============================] - 233s 428ms/step - loss: 0.2173 - accuracy: 0.9262 - val_loss: 1.4846 - val_accuracy: 0.6906\n",
            "Epoch 14/50\n",
            "543/543 [==============================] - 232s 427ms/step - loss: 0.1152 - accuracy: 0.9677 - val_loss: 1.7547 - val_accuracy: 0.6133\n",
            "Epoch 15/50\n",
            "543/543 [==============================] - 232s 426ms/step - loss: 0.1692 - accuracy: 0.9424 - val_loss: 1.7185 - val_accuracy: 0.6703\n",
            "Epoch 16/50\n",
            "543/543 [==============================] - 232s 427ms/step - loss: 0.1565 - accuracy: 0.9433 - val_loss: 1.9151 - val_accuracy: 0.6759\n",
            "Epoch 17/50\n",
            "543/543 [==============================] - 231s 426ms/step - loss: 0.1212 - accuracy: 0.9604 - val_loss: 1.7492 - val_accuracy: 0.6759\n",
            "Epoch 18/50\n",
            "543/543 [==============================] - 238s 439ms/step - loss: 0.1067 - accuracy: 0.9677 - val_loss: 1.6992 - val_accuracy: 0.6924\n",
            "Epoch 19/50\n",
            "543/543 [==============================] - 238s 438ms/step - loss: 0.1396 - accuracy: 0.9553 - val_loss: 1.8124 - val_accuracy: 0.6703\n",
            "Epoch 20/50\n",
            "543/543 [==============================] - 238s 438ms/step - loss: 0.1024 - accuracy: 0.9696 - val_loss: 1.8547 - val_accuracy: 0.6722\n",
            "Epoch 21/50\n",
            "543/543 [==============================] - 237s 436ms/step - loss: 0.0961 - accuracy: 0.9696 - val_loss: 2.0269 - val_accuracy: 0.6611\n",
            "Epoch 22/50\n",
            "543/543 [==============================] - 239s 441ms/step - loss: 0.0798 - accuracy: 0.9719 - val_loss: 1.9007 - val_accuracy: 0.6740\n",
            "Epoch 23/50\n",
            "543/543 [==============================] - 239s 441ms/step - loss: 0.1341 - accuracy: 0.9553 - val_loss: 1.9566 - val_accuracy: 0.6667\n",
            "Epoch 24/50\n",
            "543/543 [==============================] - 233s 428ms/step - loss: 0.0491 - accuracy: 0.9862 - val_loss: 2.0783 - val_accuracy: 0.6722\n",
            "Epoch 25/50\n",
            "543/543 [==============================] - 231s 425ms/step - loss: 0.0884 - accuracy: 0.9728 - val_loss: 2.0613 - val_accuracy: 0.6685\n",
            "Epoch 26/50\n",
            "543/543 [==============================] - 229s 421ms/step - loss: 0.1158 - accuracy: 0.9613 - val_loss: 1.8138 - val_accuracy: 0.6888\n",
            "Epoch 27/50\n",
            "543/543 [==============================] - 228s 419ms/step - loss: 0.0610 - accuracy: 0.9843 - val_loss: 2.0280 - val_accuracy: 0.6703\n",
            "Epoch 28/50\n",
            "543/543 [==============================] - 227s 419ms/step - loss: 0.0888 - accuracy: 0.9723 - val_loss: 1.9214 - val_accuracy: 0.6869\n",
            "Epoch 29/50\n",
            "543/543 [==============================] - 227s 418ms/step - loss: 0.0795 - accuracy: 0.9710 - val_loss: 2.0868 - val_accuracy: 0.6722\n",
            "Epoch 30/50\n",
            "543/543 [==============================] - 227s 419ms/step - loss: 0.0766 - accuracy: 0.9760 - val_loss: 2.0193 - val_accuracy: 0.6777\n",
            "Epoch 31/50\n",
            "543/543 [==============================] - 227s 419ms/step - loss: 0.0724 - accuracy: 0.9806 - val_loss: 2.2654 - val_accuracy: 0.6759\n",
            "Epoch 32/50\n",
            "543/543 [==============================] - 228s 419ms/step - loss: 0.1007 - accuracy: 0.9673 - val_loss: 2.0811 - val_accuracy: 0.6759\n",
            "Epoch 33/50\n",
            "543/543 [==============================] - 228s 419ms/step - loss: 0.0440 - accuracy: 0.9857 - val_loss: 2.0281 - val_accuracy: 0.6888\n",
            "Epoch 34/50\n",
            "543/543 [==============================] - 227s 418ms/step - loss: 0.0509 - accuracy: 0.9825 - val_loss: 1.8821 - val_accuracy: 0.7164\n",
            "Epoch 35/50\n",
            "543/543 [==============================] - 228s 420ms/step - loss: 0.0473 - accuracy: 0.9862 - val_loss: 2.0254 - val_accuracy: 0.6998\n",
            "Epoch 36/50\n",
            "543/543 [==============================] - 227s 419ms/step - loss: 0.0252 - accuracy: 0.9917 - val_loss: 2.2252 - val_accuracy: 0.6703\n",
            "Epoch 37/50\n",
            "543/543 [==============================] - 227s 418ms/step - loss: 0.1500 - accuracy: 0.9525 - val_loss: 2.2217 - val_accuracy: 0.6759\n",
            "Epoch 38/50\n",
            "543/543 [==============================] - 227s 419ms/step - loss: 0.0397 - accuracy: 0.9876 - val_loss: 1.8487 - val_accuracy: 0.7238\n",
            "Epoch 39/50\n",
            "543/543 [==============================] - 227s 419ms/step - loss: 0.0466 - accuracy: 0.9871 - val_loss: 2.1380 - val_accuracy: 0.7053\n",
            "Epoch 40/50\n",
            "543/543 [==============================] - 228s 419ms/step - loss: 0.0539 - accuracy: 0.9839 - val_loss: 2.2416 - val_accuracy: 0.6888\n",
            "Epoch 41/50\n",
            "543/543 [==============================] - 228s 419ms/step - loss: 0.0530 - accuracy: 0.9793 - val_loss: 1.9100 - val_accuracy: 0.6851\n",
            "Epoch 42/50\n",
            "543/543 [==============================] - 228s 419ms/step - loss: 0.0239 - accuracy: 0.9917 - val_loss: 2.1925 - val_accuracy: 0.7017\n",
            "Epoch 43/50\n",
            "543/543 [==============================] - 228s 419ms/step - loss: 0.0743 - accuracy: 0.9760 - val_loss: 2.2433 - val_accuracy: 0.6961\n",
            "Epoch 44/50\n",
            "543/543 [==============================] - 228s 419ms/step - loss: 0.0252 - accuracy: 0.9917 - val_loss: 2.1413 - val_accuracy: 0.6980\n",
            "Epoch 45/50\n",
            "543/543 [==============================] - 228s 420ms/step - loss: 0.0190 - accuracy: 0.9949 - val_loss: 2.1734 - val_accuracy: 0.7072\n",
            "Epoch 46/50\n",
            "543/543 [==============================] - 228s 420ms/step - loss: 0.0982 - accuracy: 0.9733 - val_loss: 2.5178 - val_accuracy: 0.6390\n",
            "Epoch 47/50\n",
            "543/543 [==============================] - 228s 420ms/step - loss: 0.0914 - accuracy: 0.9742 - val_loss: 2.4114 - val_accuracy: 0.6796\n",
            "Epoch 48/50\n",
            "543/543 [==============================] - 228s 420ms/step - loss: 0.0485 - accuracy: 0.9843 - val_loss: 2.0669 - val_accuracy: 0.6998\n",
            "Epoch 49/50\n",
            "543/543 [==============================] - 228s 419ms/step - loss: 0.0407 - accuracy: 0.9843 - val_loss: 2.2794 - val_accuracy: 0.6998\n",
            "Epoch 50/50\n",
            "543/543 [==============================] - 228s 419ms/step - loss: 0.0311 - accuracy: 0.9899 - val_loss: 2.4330 - val_accuracy: 0.7145\n"
          ]
        }
      ],
      "source": [
        "early_stopping_callback = EarlyStopping(monitor = 'val_loss', patience = 10, mode = 'min', restore_best_weights = True)\n",
        "\n",
        "convlstm_model.compile(loss = 'categorical_crossentropy', optimizer = 'Adam', metrics = [\"accuracy\"])\n",
        "\n",
        "# Start training the model.\n",
        "convlstm_model_training_history = convlstm_model.fit(x = features_train, y = labels_train, epochs = 50, batch_size = 4,\n",
        "                                                     shuffle = True, validation_split = 0.2)"
      ]
    },
    {
      "cell_type": "code",
      "execution_count": null,
      "metadata": {
        "colab": {
          "base_uri": "https://localhost:8080/"
        },
        "id": "74tGjokkmSHR",
        "outputId": "f4a69c15-dab9-481b-85a2-fe8c1b3460c3"
      },
      "outputs": [
        {
          "name": "stdout",
          "output_type": "stream",
          "text": [
            "29/29 [==============================] - 12s 416ms/step - loss: 2.3268 - accuracy: 0.6947\n"
          ]
        }
      ],
      "source": [
        "# Evaluate the trained model.\n",
        "model_evaluation_history = convlstm_model.evaluate(features_test, labels_test)"
      ]
    },
    {
      "cell_type": "code",
      "execution_count": null,
      "metadata": {
        "id": "GLfnP_czYudN"
      },
      "outputs": [],
      "source": [
        "\n",
        "model_evaluation_loss, model_evaluation_accuracy = model_evaluation_history\n",
        "\n",
        "date_time_format = '%Y_%m_%d__%H_%M_%S'\n",
        "current_date_time_dt = dt.datetime.now()\n",
        "current_date_time_string = dt.datetime.strftime(current_date_time_dt, date_time_format)\n",
        "\n",
        "# Define a useful name for our model to make it easy for us while navigating through multiple saved models.\n",
        "model_file_name = f'convlstm_model___Date_Time_{current_date_time_string}___Loss_{model_evaluation_loss}___Accuracy_{model_evaluation_accuracy}.h5'\n",
        "\n",
        "# Save your Model.\n",
        "convlstm_model.save(model_file_name)"
      ]
    },
    {
      "cell_type": "code",
      "execution_count": null,
      "metadata": {
        "id": "qrQnmVF7aZjQ"
      },
      "outputs": [],
      "source": [
        "def plot_metric(model_training_history, metric_name_1, metric_name_2, plot_name):\n",
        "\n",
        "    metric_value_1 = model_training_history.history[metric_name_1]\n",
        "    metric_value_2 = model_training_history.history[metric_name_2]\n",
        "\n",
        "    epochs = range(len(metric_value_1))\n",
        "\n",
        "    # Plot the Graph.\n",
        "    plt.plot(epochs, metric_value_1, 'blue', label = metric_name_1)\n",
        "    plt.plot(epochs, metric_value_2, 'red', label = metric_name_2)\n",
        "    plt.title(str(plot_name))\n",
        "    plt.legend()"
      ]
    },
    {
      "cell_type": "code",
      "execution_count": null,
      "metadata": {
        "colab": {
          "base_uri": "https://localhost:8080/",
          "height": 281
        },
        "id": "tKABbscJblP_",
        "outputId": "ddf20607-62fc-433c-ef4a-207344b8baf4"
      },
      "outputs": [
        {
          "data": {
            "image/png": "[encoded data removed]",
            "text/plain": [
              "<Figure size 432x288 with 1 Axes>"
            ]
          },
          "metadata": {
            "needs_background": "light"
          },
          "output_type": "display_data"
        }
      ],
      "source": [
        "# Visualize the training and validation loss metrices.\n",
        "plot_metric(convlstm_model_training_history, 'loss', 'val_loss', 'Total Loss vs Total Validation Loss')"
      ]
    },
    {
      "cell_type": "code",
      "execution_count": null,
      "metadata": {
        "colab": {
          "base_uri": "https://localhost:8080/",
          "height": 281
        },
        "id": "cTSpJP-bb7WV",
        "outputId": "7e4330dc-51dc-45bb-bf97-80053deaa3e1"
      },
      "outputs": [
        {
          "data": {
            "image/png": "[encoded data removed]",
            "text/plain": [
              "<Figure size 432x288 with 1 Axes>"
            ]
          },
          "metadata": {
            "needs_background": "light"
          },
          "output_type": "display_data"
        }
      ],
      "source": [
        "# Visualize the training and validation accuracy metrices.\n",
        "plot_metric(convlstm_model_training_history, 'accuracy', 'val_accuracy', 'Total Accuracy vs Total Validation Accuracy')"
      ]
    }
  ],
  "metadata": {
    "accelerator": "TPU",
    "colab": {
      "provenance": []
    },
    "kernelspec": {
      "display_name": "Python 3",
      "language": "python",
      "name": "python3"
    },
    "language_info": {
      "codemirror_mode": {
        "name": "ipython",
        "version": 3
      },
      "file_extension": ".py",
      "mimetype": "text/x-python",
      "name": "python",
      "nbconvert_exporter": "python",
      "pygments_lexer": "ipython3",
      "version": "3.10.6 (tags/v3.10.6:9c7b4bd, Aug  1 2022, 21:53:49) [MSC v.1932 64 bit (AMD64)]"
    },
    "vscode": {
      "interpreter": {
        "hash": "fbe58ca63fe33f9eeae9e71d10368d2b4a57f2b1b395836210cc60d362c66949"
      }
    }
  },
  "nbformat": 4,
  "nbformat_minor": 0
}